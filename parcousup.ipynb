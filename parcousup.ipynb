{
 "cells": [
  {
   "cell_type": "code",
   "execution_count": 15,
   "metadata": {
    "collapsed": true
   },
   "outputs": [],
   "source": [
    "import pandas as pd\n",
    "from pymongo import MongoClient"
   ]
  },
  {
   "cell_type": "markdown",
   "source": [
    "## Connecting to MongoDB"
   ],
   "metadata": {
    "collapsed": false
   }
  },
  {
   "cell_type": "code",
   "execution_count": 6,
   "outputs": [],
   "source": [
    "client = MongoClient('mongodb://localhost:27017/')"
   ],
   "metadata": {
    "collapsed": false,
    "pycharm": {
     "name": "#%%\n"
    }
   }
  },
  {
   "cell_type": "markdown",
   "source": [
    "### Most filled Academies"
   ],
   "metadata": {
    "collapsed": false
   }
  },
  {
   "cell_type": "code",
   "execution_count": 10,
   "outputs": [
    {
     "data": {
      "text/plain": "                   _id  academy_capacity  academy_filled     ratio\n0             Etranger                80              34  0.425000\n1           Martinique              1296             895  0.690586\n2  Polynésie Française              1451            1146  0.789800\n3                 Lyon             16553           13080  0.790189\n4           Guadeloupe              1923            1530  0.795632\n5               Guyane               557             465  0.834829\n6              Limoges              2621            2252  0.859214\n7               Rennes             13153           11499  0.874249\n8             Besancon              4337            3794  0.874798\n9                Corse               504             443  0.878968",
      "text/html": "<div>\n<style scoped>\n    .dataframe tbody tr th:only-of-type {\n        vertical-align: middle;\n    }\n\n    .dataframe tbody tr th {\n        vertical-align: top;\n    }\n\n    .dataframe thead th {\n        text-align: right;\n    }\n</style>\n<table border=\"1\" class=\"dataframe\">\n  <thead>\n    <tr style=\"text-align: right;\">\n      <th></th>\n      <th>_id</th>\n      <th>academy_capacity</th>\n      <th>academy_filled</th>\n      <th>ratio</th>\n    </tr>\n  </thead>\n  <tbody>\n    <tr>\n      <th>0</th>\n      <td>Etranger</td>\n      <td>80</td>\n      <td>34</td>\n      <td>0.425000</td>\n    </tr>\n    <tr>\n      <th>1</th>\n      <td>Martinique</td>\n      <td>1296</td>\n      <td>895</td>\n      <td>0.690586</td>\n    </tr>\n    <tr>\n      <th>2</th>\n      <td>Polynésie Française</td>\n      <td>1451</td>\n      <td>1146</td>\n      <td>0.789800</td>\n    </tr>\n    <tr>\n      <th>3</th>\n      <td>Lyon</td>\n      <td>16553</td>\n      <td>13080</td>\n      <td>0.790189</td>\n    </tr>\n    <tr>\n      <th>4</th>\n      <td>Guadeloupe</td>\n      <td>1923</td>\n      <td>1530</td>\n      <td>0.795632</td>\n    </tr>\n    <tr>\n      <th>5</th>\n      <td>Guyane</td>\n      <td>557</td>\n      <td>465</td>\n      <td>0.834829</td>\n    </tr>\n    <tr>\n      <th>6</th>\n      <td>Limoges</td>\n      <td>2621</td>\n      <td>2252</td>\n      <td>0.859214</td>\n    </tr>\n    <tr>\n      <th>7</th>\n      <td>Rennes</td>\n      <td>13153</td>\n      <td>11499</td>\n      <td>0.874249</td>\n    </tr>\n    <tr>\n      <th>8</th>\n      <td>Besancon</td>\n      <td>4337</td>\n      <td>3794</td>\n      <td>0.874798</td>\n    </tr>\n    <tr>\n      <th>9</th>\n      <td>Corse</td>\n      <td>504</td>\n      <td>443</td>\n      <td>0.878968</td>\n    </tr>\n  </tbody>\n</table>\n</div>"
     },
     "execution_count": 10,
     "metadata": {},
     "output_type": "execute_result"
    }
   ],
   "source": [
    "# Requires the PyMongo package.\n",
    "# https://api.mongodb.com/python/current\n",
    "\n",
    "df = pd.DataFrame(client['parcoursup']['Parcoursup'].aggregate([\n",
    "    {\n",
    "        '$project': {\n",
    "            'name': '$fields.g_ea_lib_vx',\n",
    "            'academy': '$fields.acad_mies',\n",
    "            'capacity_establishment': '$fields.capa_fin',\n",
    "            'number_of_applicant': '$fields.voe_tot',\n",
    "            'number_of_proposition': '$fields.prop_tot',\n",
    "            'positive_response_from_candidate': '$fields.acc_tot'\n",
    "        }\n",
    "    }, {\n",
    "        '$group': {\n",
    "            '_id': '$academy',\n",
    "            'academy_capacity': {\n",
    "                '$sum': '$capacity_establishment'\n",
    "            },\n",
    "            'academy_filled': {\n",
    "                '$sum': '$positive_response_from_candidate'\n",
    "            }\n",
    "        }\n",
    "    }, {\n",
    "        '$addFields': {\n",
    "            'ratio': {\n",
    "                '$divide': [\n",
    "                    '$academy_filled', '$academy_capacity'\n",
    "                ]\n",
    "            }\n",
    "        }\n",
    "    }, {\n",
    "        '$sort': {\n",
    "            'ratio': 1\n",
    "        }\n",
    "    }, {\n",
    "        '$limit': 10\n",
    "    }\n",
    "]))\n",
    "df"
   ],
   "metadata": {
    "collapsed": false,
    "pycharm": {
     "name": "#%%\n"
    }
   }
  },
  {
   "cell_type": "markdown",
   "source": [
    "### Applications par academie"
   ],
   "metadata": {
    "collapsed": false
   }
  },
  {
   "cell_type": "code",
   "execution_count": 11,
   "outputs": [
    {
     "data": {
      "text/plain": "                                                    _id  applicants\n0                                   Université de Lille       59962\n1                                   Université de Paris       45712\n2     Aix Marseille Université - Site d'Aix-en-Provence       41803\n3              Université Paris 13 - Antenne de Bobigny       39921\n4                             Université Paris Nanterre       37260\n...                                                 ...         ...\n1982                             Lycée Georges Pompidou           0\n1983                           Lycée Charles Baudelaire           0\n1984                Lycée professionnel Camille Claudel           0\n1985               Lycée professionnel Thomas-Jean Main           0\n1986              Lycée professionnel Paul Louis Cyfflé           0\n\n[1987 rows x 2 columns]",
      "text/html": "<div>\n<style scoped>\n    .dataframe tbody tr th:only-of-type {\n        vertical-align: middle;\n    }\n\n    .dataframe tbody tr th {\n        vertical-align: top;\n    }\n\n    .dataframe thead th {\n        text-align: right;\n    }\n</style>\n<table border=\"1\" class=\"dataframe\">\n  <thead>\n    <tr style=\"text-align: right;\">\n      <th></th>\n      <th>_id</th>\n      <th>applicants</th>\n    </tr>\n  </thead>\n  <tbody>\n    <tr>\n      <th>0</th>\n      <td>Université de Lille</td>\n      <td>59962</td>\n    </tr>\n    <tr>\n      <th>1</th>\n      <td>Université de Paris</td>\n      <td>45712</td>\n    </tr>\n    <tr>\n      <th>2</th>\n      <td>Aix Marseille Université - Site d'Aix-en-Provence</td>\n      <td>41803</td>\n    </tr>\n    <tr>\n      <th>3</th>\n      <td>Université Paris 13 - Antenne de Bobigny</td>\n      <td>39921</td>\n    </tr>\n    <tr>\n      <th>4</th>\n      <td>Université Paris Nanterre</td>\n      <td>37260</td>\n    </tr>\n    <tr>\n      <th>...</th>\n      <td>...</td>\n      <td>...</td>\n    </tr>\n    <tr>\n      <th>1982</th>\n      <td>Lycée Georges Pompidou</td>\n      <td>0</td>\n    </tr>\n    <tr>\n      <th>1983</th>\n      <td>Lycée Charles Baudelaire</td>\n      <td>0</td>\n    </tr>\n    <tr>\n      <th>1984</th>\n      <td>Lycée professionnel Camille Claudel</td>\n      <td>0</td>\n    </tr>\n    <tr>\n      <th>1985</th>\n      <td>Lycée professionnel Thomas-Jean Main</td>\n      <td>0</td>\n    </tr>\n    <tr>\n      <th>1986</th>\n      <td>Lycée professionnel Paul Louis Cyfflé</td>\n      <td>0</td>\n    </tr>\n  </tbody>\n</table>\n<p>1987 rows × 2 columns</p>\n</div>"
     },
     "execution_count": 11,
     "metadata": {},
     "output_type": "execute_result"
    }
   ],
   "source": [
    "df = pd.DataFrame(client['parcoursup']['Parcoursup'].aggregate([\n",
    "    {\n",
    "        '$group': {\n",
    "            '_id': '$fields.g_ea_lib_vx',\n",
    "            'applicants': {\n",
    "                '$sum': {\n",
    "                    '$toInt': '$fields.voe_tot'\n",
    "                }\n",
    "            }\n",
    "        }\n",
    "    }, {\n",
    "        '$sort': {\n",
    "            'applicants': -1\n",
    "        }\n",
    "    }\n",
    "]))\n",
    "df"
   ],
   "metadata": {
    "collapsed": false,
    "pycharm": {
     "name": "#%%\n"
    }
   }
  },
  {
   "cell_type": "markdown",
   "source": [
    "Evolution du taux de remplissage des académies"
   ],
   "metadata": {
    "collapsed": false
   }
  },
  {
   "cell_type": "code",
   "execution_count": 12,
   "outputs": [
    {
     "data": {
      "text/plain": "                    _id  first_round  second_round  third_round\n0               Limoges        21.28         67.32        67.32\n1                 Paris        25.39         68.59        68.59\n2               Créteil        19.92         69.28        69.28\n3               Mayotte        35.17         73.89        73.89\n4           Montpellier        24.71         73.95        73.95\n5            Versailles        21.27         74.13        74.13\n6                  Lyon        23.71         74.44        74.44\n7         Aix-Marseille        25.74         75.02        75.02\n8                  Nice        23.45         75.08        75.08\n9             Normandie        23.85         75.43        75.43\n10             Poitiers        27.85         75.43        75.43\n11             Grenoble        25.16         75.60        75.60\n12        Orléans-Tours        26.15         75.85        75.85\n13             Toulouse        26.75         75.93        75.93\n14           Strasbourg        24.30         76.20        76.20\n15               Guyane        34.86         76.79        76.79\n16           Nancy-Metz        26.27         76.83        76.83\n17                Lille        30.44         76.97        76.97\n18               Amiens        28.98         77.06        77.06\n19                Dijon        28.31         77.16        77.16\n20               Rennes        26.09         77.94        77.94\n21               Nantes        29.87         78.23        78.23\n22           La Réunion        28.02         78.69        78.69\n23                Reims        28.00         79.24        79.24\n24           Guadeloupe        32.39         79.63        79.63\n25     Clermont-Ferrand        28.62         79.80        79.80\n26             Besancon        26.22         79.83        79.83\n27             Bordeaux        29.31         79.99        79.99\n28           Martinique        36.19         80.44        80.44\n29                Corse        40.28         82.91        82.91\n30  Polynésie Française        44.09         84.62        84.62\n31             Etranger        26.67         89.09        89.09",
      "text/html": "<div>\n<style scoped>\n    .dataframe tbody tr th:only-of-type {\n        vertical-align: middle;\n    }\n\n    .dataframe tbody tr th {\n        vertical-align: top;\n    }\n\n    .dataframe thead th {\n        text-align: right;\n    }\n</style>\n<table border=\"1\" class=\"dataframe\">\n  <thead>\n    <tr style=\"text-align: right;\">\n      <th></th>\n      <th>_id</th>\n      <th>first_round</th>\n      <th>second_round</th>\n      <th>third_round</th>\n    </tr>\n  </thead>\n  <tbody>\n    <tr>\n      <th>0</th>\n      <td>Limoges</td>\n      <td>21.28</td>\n      <td>67.32</td>\n      <td>67.32</td>\n    </tr>\n    <tr>\n      <th>1</th>\n      <td>Paris</td>\n      <td>25.39</td>\n      <td>68.59</td>\n      <td>68.59</td>\n    </tr>\n    <tr>\n      <th>2</th>\n      <td>Créteil</td>\n      <td>19.92</td>\n      <td>69.28</td>\n      <td>69.28</td>\n    </tr>\n    <tr>\n      <th>3</th>\n      <td>Mayotte</td>\n      <td>35.17</td>\n      <td>73.89</td>\n      <td>73.89</td>\n    </tr>\n    <tr>\n      <th>4</th>\n      <td>Montpellier</td>\n      <td>24.71</td>\n      <td>73.95</td>\n      <td>73.95</td>\n    </tr>\n    <tr>\n      <th>5</th>\n      <td>Versailles</td>\n      <td>21.27</td>\n      <td>74.13</td>\n      <td>74.13</td>\n    </tr>\n    <tr>\n      <th>6</th>\n      <td>Lyon</td>\n      <td>23.71</td>\n      <td>74.44</td>\n      <td>74.44</td>\n    </tr>\n    <tr>\n      <th>7</th>\n      <td>Aix-Marseille</td>\n      <td>25.74</td>\n      <td>75.02</td>\n      <td>75.02</td>\n    </tr>\n    <tr>\n      <th>8</th>\n      <td>Nice</td>\n      <td>23.45</td>\n      <td>75.08</td>\n      <td>75.08</td>\n    </tr>\n    <tr>\n      <th>9</th>\n      <td>Normandie</td>\n      <td>23.85</td>\n      <td>75.43</td>\n      <td>75.43</td>\n    </tr>\n    <tr>\n      <th>10</th>\n      <td>Poitiers</td>\n      <td>27.85</td>\n      <td>75.43</td>\n      <td>75.43</td>\n    </tr>\n    <tr>\n      <th>11</th>\n      <td>Grenoble</td>\n      <td>25.16</td>\n      <td>75.60</td>\n      <td>75.60</td>\n    </tr>\n    <tr>\n      <th>12</th>\n      <td>Orléans-Tours</td>\n      <td>26.15</td>\n      <td>75.85</td>\n      <td>75.85</td>\n    </tr>\n    <tr>\n      <th>13</th>\n      <td>Toulouse</td>\n      <td>26.75</td>\n      <td>75.93</td>\n      <td>75.93</td>\n    </tr>\n    <tr>\n      <th>14</th>\n      <td>Strasbourg</td>\n      <td>24.30</td>\n      <td>76.20</td>\n      <td>76.20</td>\n    </tr>\n    <tr>\n      <th>15</th>\n      <td>Guyane</td>\n      <td>34.86</td>\n      <td>76.79</td>\n      <td>76.79</td>\n    </tr>\n    <tr>\n      <th>16</th>\n      <td>Nancy-Metz</td>\n      <td>26.27</td>\n      <td>76.83</td>\n      <td>76.83</td>\n    </tr>\n    <tr>\n      <th>17</th>\n      <td>Lille</td>\n      <td>30.44</td>\n      <td>76.97</td>\n      <td>76.97</td>\n    </tr>\n    <tr>\n      <th>18</th>\n      <td>Amiens</td>\n      <td>28.98</td>\n      <td>77.06</td>\n      <td>77.06</td>\n    </tr>\n    <tr>\n      <th>19</th>\n      <td>Dijon</td>\n      <td>28.31</td>\n      <td>77.16</td>\n      <td>77.16</td>\n    </tr>\n    <tr>\n      <th>20</th>\n      <td>Rennes</td>\n      <td>26.09</td>\n      <td>77.94</td>\n      <td>77.94</td>\n    </tr>\n    <tr>\n      <th>21</th>\n      <td>Nantes</td>\n      <td>29.87</td>\n      <td>78.23</td>\n      <td>78.23</td>\n    </tr>\n    <tr>\n      <th>22</th>\n      <td>La Réunion</td>\n      <td>28.02</td>\n      <td>78.69</td>\n      <td>78.69</td>\n    </tr>\n    <tr>\n      <th>23</th>\n      <td>Reims</td>\n      <td>28.00</td>\n      <td>79.24</td>\n      <td>79.24</td>\n    </tr>\n    <tr>\n      <th>24</th>\n      <td>Guadeloupe</td>\n      <td>32.39</td>\n      <td>79.63</td>\n      <td>79.63</td>\n    </tr>\n    <tr>\n      <th>25</th>\n      <td>Clermont-Ferrand</td>\n      <td>28.62</td>\n      <td>79.80</td>\n      <td>79.80</td>\n    </tr>\n    <tr>\n      <th>26</th>\n      <td>Besancon</td>\n      <td>26.22</td>\n      <td>79.83</td>\n      <td>79.83</td>\n    </tr>\n    <tr>\n      <th>27</th>\n      <td>Bordeaux</td>\n      <td>29.31</td>\n      <td>79.99</td>\n      <td>79.99</td>\n    </tr>\n    <tr>\n      <th>28</th>\n      <td>Martinique</td>\n      <td>36.19</td>\n      <td>80.44</td>\n      <td>80.44</td>\n    </tr>\n    <tr>\n      <th>29</th>\n      <td>Corse</td>\n      <td>40.28</td>\n      <td>82.91</td>\n      <td>82.91</td>\n    </tr>\n    <tr>\n      <th>30</th>\n      <td>Polynésie Française</td>\n      <td>44.09</td>\n      <td>84.62</td>\n      <td>84.62</td>\n    </tr>\n    <tr>\n      <th>31</th>\n      <td>Etranger</td>\n      <td>26.67</td>\n      <td>89.09</td>\n      <td>89.09</td>\n    </tr>\n  </tbody>\n</table>\n</div>"
     },
     "execution_count": 12,
     "metadata": {},
     "output_type": "execute_result"
    }
   ],
   "source": [
    "pd.DataFrame(client['parcoursup']['Parcoursup'].aggregate(\n",
    "    [\n",
    "    {\n",
    "        '$group': {\n",
    "            '_id': '$fields.acad_mies',\n",
    "            'candidat_accepted_first': {\n",
    "                '$avg': '$fields.pct_acc_debutpp'\n",
    "            },\n",
    "            'candidat_accepted_second': {\n",
    "                '$avg': '$fields.pct_acc_datebac'\n",
    "            },\n",
    "            'candidat_accepted_third': {\n",
    "                '$avg': '$fields.pct_acc_finpp'\n",
    "            }\n",
    "        }\n",
    "    }, {\n",
    "        '$project': {\n",
    "            'first_round': {\n",
    "                '$round': [\n",
    "                    '$candidat_accepted_first', 2\n",
    "                ]\n",
    "            },\n",
    "            'second_round': {\n",
    "                '$round': [\n",
    "                    '$candidat_accepted_second', 2\n",
    "                ]\n",
    "            },\n",
    "            'third_round': {\n",
    "                '$round': [\n",
    "                    '$candidat_accepted_second', 2\n",
    "                ]\n",
    "            }\n",
    "        }\n",
    "    }, {\n",
    "        '$sort': {\n",
    "            'third_round': 1\n",
    "        }\n",
    "    }\n",
    "]\n",
    "))"
   ],
   "metadata": {
    "collapsed": false,
    "pycharm": {
     "name": "#%%\n"
    }
   }
  },
  {
   "cell_type": "markdown",
   "source": [
    "### Flux migratoire des néo-bacheliers"
   ],
   "metadata": {
    "collapsed": false
   }
  },
  {
   "cell_type": "code",
   "execution_count": 14,
   "outputs": [
    {
     "data": {
      "text/plain": "                           _id  candidats     stayed   migrated\n0                      Mayotte        258  98.275000   1.725000\n1          Polynésie française       1146  97.170000   2.830000\n2                   Guadeloupe       1530  96.311905   3.688095\n3                       Guyane        465  95.812105   4.187895\n4                        Corse        443  92.171875   7.828125\n5                   La Réunion       4467  91.451129   8.548871\n6                   Martinique        895  90.942308   9.057692\n7                Ile-de-France      57779  85.140436  14.859564\n8                    Normandie      10608  84.706912  15.293088\n9              Hauts-de-France      25045  81.291537  18.708463\n10                    Bretagne      11499  81.233017  18.766983\n11                   Grand Est      20447  79.792612  20.207388\n12  Provence Alpes Côte d'Azur      16412  77.834116  22.165884\n13         Centre-Val de Loire       7729  74.220922  25.779078\n14     Bourgogne-Franche-Comté       8722  74.095610  25.904390\n15            Pays de la Loire      11905  73.022874  26.977126\n16                   Occitanie      24479  72.195437  27.804563\n17          Nouvelle-Aquitaine      16285  71.757534  28.242466\n18        Auvergne-Rhône-Alpes      27003  69.163280  30.836720\n19                    Etranger         34  63.333333  36.666667",
      "text/html": "<div>\n<style scoped>\n    .dataframe tbody tr th:only-of-type {\n        vertical-align: middle;\n    }\n\n    .dataframe tbody tr th {\n        vertical-align: top;\n    }\n\n    .dataframe thead th {\n        text-align: right;\n    }\n</style>\n<table border=\"1\" class=\"dataframe\">\n  <thead>\n    <tr style=\"text-align: right;\">\n      <th></th>\n      <th>_id</th>\n      <th>candidats</th>\n      <th>stayed</th>\n      <th>migrated</th>\n    </tr>\n  </thead>\n  <tbody>\n    <tr>\n      <th>0</th>\n      <td>Mayotte</td>\n      <td>258</td>\n      <td>98.275000</td>\n      <td>1.725000</td>\n    </tr>\n    <tr>\n      <th>1</th>\n      <td>Polynésie française</td>\n      <td>1146</td>\n      <td>97.170000</td>\n      <td>2.830000</td>\n    </tr>\n    <tr>\n      <th>2</th>\n      <td>Guadeloupe</td>\n      <td>1530</td>\n      <td>96.311905</td>\n      <td>3.688095</td>\n    </tr>\n    <tr>\n      <th>3</th>\n      <td>Guyane</td>\n      <td>465</td>\n      <td>95.812105</td>\n      <td>4.187895</td>\n    </tr>\n    <tr>\n      <th>4</th>\n      <td>Corse</td>\n      <td>443</td>\n      <td>92.171875</td>\n      <td>7.828125</td>\n    </tr>\n    <tr>\n      <th>5</th>\n      <td>La Réunion</td>\n      <td>4467</td>\n      <td>91.451129</td>\n      <td>8.548871</td>\n    </tr>\n    <tr>\n      <th>6</th>\n      <td>Martinique</td>\n      <td>895</td>\n      <td>90.942308</td>\n      <td>9.057692</td>\n    </tr>\n    <tr>\n      <th>7</th>\n      <td>Ile-de-France</td>\n      <td>57779</td>\n      <td>85.140436</td>\n      <td>14.859564</td>\n    </tr>\n    <tr>\n      <th>8</th>\n      <td>Normandie</td>\n      <td>10608</td>\n      <td>84.706912</td>\n      <td>15.293088</td>\n    </tr>\n    <tr>\n      <th>9</th>\n      <td>Hauts-de-France</td>\n      <td>25045</td>\n      <td>81.291537</td>\n      <td>18.708463</td>\n    </tr>\n    <tr>\n      <th>10</th>\n      <td>Bretagne</td>\n      <td>11499</td>\n      <td>81.233017</td>\n      <td>18.766983</td>\n    </tr>\n    <tr>\n      <th>11</th>\n      <td>Grand Est</td>\n      <td>20447</td>\n      <td>79.792612</td>\n      <td>20.207388</td>\n    </tr>\n    <tr>\n      <th>12</th>\n      <td>Provence Alpes Côte d'Azur</td>\n      <td>16412</td>\n      <td>77.834116</td>\n      <td>22.165884</td>\n    </tr>\n    <tr>\n      <th>13</th>\n      <td>Centre-Val de Loire</td>\n      <td>7729</td>\n      <td>74.220922</td>\n      <td>25.779078</td>\n    </tr>\n    <tr>\n      <th>14</th>\n      <td>Bourgogne-Franche-Comté</td>\n      <td>8722</td>\n      <td>74.095610</td>\n      <td>25.904390</td>\n    </tr>\n    <tr>\n      <th>15</th>\n      <td>Pays de la Loire</td>\n      <td>11905</td>\n      <td>73.022874</td>\n      <td>26.977126</td>\n    </tr>\n    <tr>\n      <th>16</th>\n      <td>Occitanie</td>\n      <td>24479</td>\n      <td>72.195437</td>\n      <td>27.804563</td>\n    </tr>\n    <tr>\n      <th>17</th>\n      <td>Nouvelle-Aquitaine</td>\n      <td>16285</td>\n      <td>71.757534</td>\n      <td>28.242466</td>\n    </tr>\n    <tr>\n      <th>18</th>\n      <td>Auvergne-Rhône-Alpes</td>\n      <td>27003</td>\n      <td>69.163280</td>\n      <td>30.836720</td>\n    </tr>\n    <tr>\n      <th>19</th>\n      <td>Etranger</td>\n      <td>34</td>\n      <td>63.333333</td>\n      <td>36.666667</td>\n    </tr>\n  </tbody>\n</table>\n</div>"
     },
     "execution_count": 14,
     "metadata": {},
     "output_type": "execute_result"
    }
   ],
   "source": [
    "pd.DataFrame(client['parcoursup']['Parcoursup'].aggregate([\n",
    "    {\n",
    "        '$group': {\n",
    "            '_id': '$fields.region_etab_aff',\n",
    "            'candidats': {\n",
    "                '$sum': '$fields.acc_tot'\n",
    "            },\n",
    "            'stayed': {\n",
    "                '$avg': '$fields.pct_aca_orig_idf'\n",
    "            }\n",
    "        }\n",
    "    }, {\n",
    "        '$addFields': {\n",
    "            'migrated': {\n",
    "                '$subtract': [\n",
    "                    100, '$stayed'\n",
    "                ]\n",
    "            }\n",
    "        }\n",
    "    }, {\n",
    "        '$sort': {\n",
    "            'migrated': 1\n",
    "        }\n",
    "    }\n",
    "]))"
   ],
   "metadata": {
    "collapsed": false,
    "pycharm": {
     "name": "#%%\n"
    }
   }
  },
  {
   "cell_type": "markdown",
   "source": [
    "# Importance de la mention"
   ],
   "metadata": {
    "collapsed": false
   }
  },
  {
   "cell_type": "code",
   "execution_count": 20,
   "outputs": [
    {
     "data": {
      "text/plain": "                           _id     academy  formation_selective  \\\n0     62b02f870858ff2ddfb74502    Poitiers                    1   \n1     62b02f870858ff2ddfb74503    Poitiers                    1   \n2     62b02f870858ff2ddfb74504       Reims                    1   \n3     62b02f870858ff2ddfb74505       Reims                    1   \n4     62b02f870858ff2ddfb74506       Reims                    1   \n...                        ...         ...                  ...   \n4571  62b02f8b0858ff2ddfb756dd  Nancy-Metz                    0   \n4572  62b02f8b0858ff2ddfb756de  Versailles                    1   \n4573  62b02f8b0858ff2ddfb756df        Nice                    1   \n4574  62b02f8b0858ff2ddfb756e0      Nantes                    0   \n4575  62b02f8b0858ff2ddfb756e1      Rennes                    1   \n\n      capacity_establishment  total_neo_bacheliers  accepted_without_mention  \\\n0                         95                    46                  6.521739   \n1                         65                    29                 31.034483   \n2                         85                    57                 28.070175   \n3                        158                    85                 15.294118   \n4                         38                    22                 27.272727   \n...                      ...                   ...                       ...   \n4571                      85                    59                 22.033898   \n4572                      24                    22                 27.272727   \n4573                      12                    11                 27.272727   \n4574                      36                     3                 33.333333   \n4575                      14                    16                  0.000000   \n\n      accepted_with_ab  accepted_with_b  accepted_with_tb  \n0            39.130435        43.478261         10.869565  \n1            48.275862        20.689655          0.000000  \n2            28.070175        33.333333         10.526316  \n3            37.647059        40.000000          7.058824  \n4            36.363636        31.818182          4.545455  \n...                ...              ...               ...  \n4571         32.203390        20.338983         25.423729  \n4572         40.909091        27.272727          4.545455  \n4573         27.272727        36.363636          9.090909  \n4574         66.666667         0.000000          0.000000  \n4575         62.500000        37.500000          0.000000  \n\n[4576 rows x 9 columns]",
      "text/html": "<div>\n<style scoped>\n    .dataframe tbody tr th:only-of-type {\n        vertical-align: middle;\n    }\n\n    .dataframe tbody tr th {\n        vertical-align: top;\n    }\n\n    .dataframe thead th {\n        text-align: right;\n    }\n</style>\n<table border=\"1\" class=\"dataframe\">\n  <thead>\n    <tr style=\"text-align: right;\">\n      <th></th>\n      <th>_id</th>\n      <th>academy</th>\n      <th>formation_selective</th>\n      <th>capacity_establishment</th>\n      <th>total_neo_bacheliers</th>\n      <th>accepted_without_mention</th>\n      <th>accepted_with_ab</th>\n      <th>accepted_with_b</th>\n      <th>accepted_with_tb</th>\n    </tr>\n  </thead>\n  <tbody>\n    <tr>\n      <th>0</th>\n      <td>62b02f870858ff2ddfb74502</td>\n      <td>Poitiers</td>\n      <td>1</td>\n      <td>95</td>\n      <td>46</td>\n      <td>6.521739</td>\n      <td>39.130435</td>\n      <td>43.478261</td>\n      <td>10.869565</td>\n    </tr>\n    <tr>\n      <th>1</th>\n      <td>62b02f870858ff2ddfb74503</td>\n      <td>Poitiers</td>\n      <td>1</td>\n      <td>65</td>\n      <td>29</td>\n      <td>31.034483</td>\n      <td>48.275862</td>\n      <td>20.689655</td>\n      <td>0.000000</td>\n    </tr>\n    <tr>\n      <th>2</th>\n      <td>62b02f870858ff2ddfb74504</td>\n      <td>Reims</td>\n      <td>1</td>\n      <td>85</td>\n      <td>57</td>\n      <td>28.070175</td>\n      <td>28.070175</td>\n      <td>33.333333</td>\n      <td>10.526316</td>\n    </tr>\n    <tr>\n      <th>3</th>\n      <td>62b02f870858ff2ddfb74505</td>\n      <td>Reims</td>\n      <td>1</td>\n      <td>158</td>\n      <td>85</td>\n      <td>15.294118</td>\n      <td>37.647059</td>\n      <td>40.000000</td>\n      <td>7.058824</td>\n    </tr>\n    <tr>\n      <th>4</th>\n      <td>62b02f870858ff2ddfb74506</td>\n      <td>Reims</td>\n      <td>1</td>\n      <td>38</td>\n      <td>22</td>\n      <td>27.272727</td>\n      <td>36.363636</td>\n      <td>31.818182</td>\n      <td>4.545455</td>\n    </tr>\n    <tr>\n      <th>...</th>\n      <td>...</td>\n      <td>...</td>\n      <td>...</td>\n      <td>...</td>\n      <td>...</td>\n      <td>...</td>\n      <td>...</td>\n      <td>...</td>\n      <td>...</td>\n    </tr>\n    <tr>\n      <th>4571</th>\n      <td>62b02f8b0858ff2ddfb756dd</td>\n      <td>Nancy-Metz</td>\n      <td>0</td>\n      <td>85</td>\n      <td>59</td>\n      <td>22.033898</td>\n      <td>32.203390</td>\n      <td>20.338983</td>\n      <td>25.423729</td>\n    </tr>\n    <tr>\n      <th>4572</th>\n      <td>62b02f8b0858ff2ddfb756de</td>\n      <td>Versailles</td>\n      <td>1</td>\n      <td>24</td>\n      <td>22</td>\n      <td>27.272727</td>\n      <td>40.909091</td>\n      <td>27.272727</td>\n      <td>4.545455</td>\n    </tr>\n    <tr>\n      <th>4573</th>\n      <td>62b02f8b0858ff2ddfb756df</td>\n      <td>Nice</td>\n      <td>1</td>\n      <td>12</td>\n      <td>11</td>\n      <td>27.272727</td>\n      <td>27.272727</td>\n      <td>36.363636</td>\n      <td>9.090909</td>\n    </tr>\n    <tr>\n      <th>4574</th>\n      <td>62b02f8b0858ff2ddfb756e0</td>\n      <td>Nantes</td>\n      <td>0</td>\n      <td>36</td>\n      <td>3</td>\n      <td>33.333333</td>\n      <td>66.666667</td>\n      <td>0.000000</td>\n      <td>0.000000</td>\n    </tr>\n    <tr>\n      <th>4575</th>\n      <td>62b02f8b0858ff2ddfb756e1</td>\n      <td>Rennes</td>\n      <td>1</td>\n      <td>14</td>\n      <td>16</td>\n      <td>0.000000</td>\n      <td>62.500000</td>\n      <td>37.500000</td>\n      <td>0.000000</td>\n    </tr>\n  </tbody>\n</table>\n<p>4576 rows × 9 columns</p>\n</div>"
     },
     "execution_count": 20,
     "metadata": {},
     "output_type": "execute_result"
    }
   ],
   "source": [
    "pd.DataFrame(client['parcoursup']['Parcoursup'].aggregate([\n",
    "    {\n",
    "        '$project': {\n",
    "            'academy': '$fields.acad_mies',\n",
    "            'formation_selective': {\n",
    "                '$cond': [\n",
    "                    {\n",
    "                        '$regexMatch': {\n",
    "                            'input': '$fields.select_form',\n",
    "                            'regex': \"formation selective\"\n",
    "                        }\n",
    "                    }, 1, 0\n",
    "                ]\n",
    "            },\n",
    "            'capacity_establishment': '$fields.capa_fin',\n",
    "            'total_neo_bacheliers': '$fields.acc_neobac',\n",
    "            'accepted_without_mention': '$fields.pct_sansmention',\n",
    "            'accepted_with_ab': '$fields.pct_ab',\n",
    "            'accepted_with_b': '$fields.pct_b',\n",
    "            'accepted_with_tb': '$fields.pct_tb'\n",
    "        }\n",
    "    }\n",
    "]))"
   ],
   "metadata": {
    "collapsed": false,
    "pycharm": {
     "name": "#%%\n"
    }
   }
  },
  {
   "cell_type": "markdown",
   "source": [
    "### Percentage of students with good mention at baccalaureate accepted in establishments"
   ],
   "metadata": {
    "collapsed": false
   }
  },
  {
   "cell_type": "code",
   "execution_count": 21,
   "outputs": [
    {
     "data": {
      "text/plain": "                                                   _id percentage_tb\n0     Sciences Po Paris - Institut d'études politiques     13.192009\n1           UTC Université de Technologie de Compiègne      4.160849\n2              UTT Université de Technologie de Troyes       4.21012\n3        IESEG School of Management - Paris La Défense      3.487179\n4                                      INSA Strasbourg      1.347492\n...                                                ...           ...\n1982                               Lycée Marcel Cachin           0.0\n1983              Lycée des métiers Condorcet Arcachon           0.0\n1984                            Lycée Louis Blaringhem           0.0\n1985          Université de Bourgogne - site de Nevers           0.0\n1986                            Lycée Thomas Corneille           0.0\n\n[1987 rows x 2 columns]",
      "text/html": "<div>\n<style scoped>\n    .dataframe tbody tr th:only-of-type {\n        vertical-align: middle;\n    }\n\n    .dataframe tbody tr th {\n        vertical-align: top;\n    }\n\n    .dataframe thead th {\n        text-align: right;\n    }\n</style>\n<table border=\"1\" class=\"dataframe\">\n  <thead>\n    <tr style=\"text-align: right;\">\n      <th></th>\n      <th>_id</th>\n      <th>percentage_tb</th>\n    </tr>\n  </thead>\n  <tbody>\n    <tr>\n      <th>0</th>\n      <td>Sciences Po Paris - Institut d'études politiques</td>\n      <td>13.192009</td>\n    </tr>\n    <tr>\n      <th>1</th>\n      <td>UTC Université de Technologie de Compiègne</td>\n      <td>4.160849</td>\n    </tr>\n    <tr>\n      <th>2</th>\n      <td>UTT Université de Technologie de Troyes</td>\n      <td>4.21012</td>\n    </tr>\n    <tr>\n      <th>3</th>\n      <td>IESEG School of Management - Paris La Défense</td>\n      <td>3.487179</td>\n    </tr>\n    <tr>\n      <th>4</th>\n      <td>INSA Strasbourg</td>\n      <td>1.347492</td>\n    </tr>\n    <tr>\n      <th>...</th>\n      <td>...</td>\n      <td>...</td>\n    </tr>\n    <tr>\n      <th>1982</th>\n      <td>Lycée Marcel Cachin</td>\n      <td>0.0</td>\n    </tr>\n    <tr>\n      <th>1983</th>\n      <td>Lycée des métiers Condorcet Arcachon</td>\n      <td>0.0</td>\n    </tr>\n    <tr>\n      <th>1984</th>\n      <td>Lycée Louis Blaringhem</td>\n      <td>0.0</td>\n    </tr>\n    <tr>\n      <th>1985</th>\n      <td>Université de Bourgogne - site de Nevers</td>\n      <td>0.0</td>\n    </tr>\n    <tr>\n      <th>1986</th>\n      <td>Lycée Thomas Corneille</td>\n      <td>0.0</td>\n    </tr>\n  </tbody>\n</table>\n<p>1987 rows × 2 columns</p>\n</div>"
     },
     "execution_count": 21,
     "metadata": {},
     "output_type": "execute_result"
    }
   ],
   "source": [
    "pd.DataFrame(client['parcoursup']['Parcoursup'].aggregate([\n",
    "    {\n",
    "        '$group': {\n",
    "            '_id': '$fields.g_ea_lib_vx',\n",
    "            'nb_max_candidat': {\n",
    "                '$first': '$fields.voe_tot'\n",
    "            },\n",
    "            'nb_acc_tb_candidat': {\n",
    "                '$first': '$fields.acc_tb'\n",
    "            }\n",
    "        }\n",
    "    }, {\n",
    "        '$sort': {\n",
    "            'nb_acc_tb_candidat': -1,\n",
    "            'nb_voe_tot': -1\n",
    "        }\n",
    "    }, {\n",
    "        '$project': {\n",
    "            'percentage_tb': {\n",
    "                '$cond': [\n",
    "                    {\n",
    "                        '$eq': [\n",
    "                            '$nb_max_candidat', 0\n",
    "                        ]\n",
    "                    }, '0', {\n",
    "                        '$divide': [\n",
    "                            {\n",
    "                                '$multiply': [\n",
    "                                    '$nb_acc_tb_candidat', 100\n",
    "                                ]\n",
    "                            }, '$nb_max_candidat'\n",
    "                        ]\n",
    "                    }\n",
    "                ]\n",
    "            }\n",
    "        }\n",
    "    }\n",
    "]))"
   ],
   "metadata": {
    "collapsed": false,
    "pycharm": {
     "name": "#%%\n"
    }
   }
  },
  {
   "cell_type": "markdown",
   "source": [
    "### List Of Establishment"
   ],
   "metadata": {
    "collapsed": false
   }
  },
  {
   "cell_type": "code",
   "execution_count": 22,
   "outputs": [
    {
     "data": {
      "text/plain": "                    _id                                     establishments  \\\n0            Versailles  [Université Paris-Saclay, Campus d'Orsay, I.U....   \n1                 Lille  [Lycée des Flandres, Lycée St-Joseph, Lycée po...   \n2               Créteil  [Lycée Uruguay France, Lycée Marcel Cachin, Un...   \n3                Nantes  [ICAM Vendée, Lycée Polyvalent Robert Garnier,...   \n4                Rennes  [Lycée professionnel Roz Glas, Lycée Pierre Me...   \n5                 Paris  [ESCE, Lycée Estienne Esaig, Lycée Saint Miche...   \n6             Normandie  [Lycée Malherbe, Lycée Sacre-Coeur, Lycée prof...   \n7              Bordeaux  [IFSI du CH Agen-Nérac, IFSI CH Intercomm Marm...   \n8                  Lyon  [ESSCA School of Management - Lyon, Lycée Lala...   \n9              Toulouse  [I.U.T de Toulouse - Antenne de Castres, Unive...   \n10             Grenoble  [Institut Supérieur de la Construction (ISCO),...   \n11        Aix-Marseille  [Lycée Pasquet, Aix Marseille Université - Sit...   \n12          Montpellier  [Lycée Jean-Francois Champollion, Lycée de La ...   \n13        Orléans-Tours  [Lycée Notre Dame, Lycée Sainte-Croix Saint-Eu...   \n14           Nancy-Metz  [Lycée Notre Dame, Lycée agricole Metz-Courcel...   \n15             Poitiers  [Lycée Fenelon, Lycée Maurice Genevoix, LP Jea...   \n16               Amiens  [Lycée Francois Truffaut, Lycée Condorcet, Lyc...   \n17                Dijon  [Lycée saint bénigne, Lycée professionnel des ...   \n18                Reims  [Lycée Edme Bouchardon, Lycée professionnel de...   \n19           Strasbourg  [I.U.T. de Mulhouse, INSA Strasbourg, IFSI Sel...   \n20                 Nice  [Lycée professionnel Golf-Hôtel, I.U.T de Nice...   \n21     Clermont-Ferrand  [Lycée des Métiers de Chamalières, IFSI CH Aur...   \n22             Besancon  [CREPS de Dijon - Antenne de Besançon, Lycée S...   \n23              Limoges  [Université de Limoges - Antenne de Brive, Lyc...   \n24           La Réunion  [UCO - LA REUNION, Lycée Sarda Garriga, Univer...   \n25           Martinique  [Lycée AMEP, Université des Antilles - Pôle Ma...   \n26           Guadeloupe  [Lycée professionnel Augustin Arron, IFSI CHU ...   \n27               Guyane  [Lycée Gaston Monnerville, Lycée d'Enseignemen...   \n28  Polynésie Française  [LYCEE PROFESSIONNEL PRIVE DON BOSCO, Lycée de...   \n29                Corse  [I.U.T de Corte, Lycée professionnel Jean Nico...   \n30              Mayotte  [CUFR Centre Universitaire de Mayotte, Lycée d...   \n31             Etranger  [EIGSI Casablanca (Maroc), EM Lyon Business Sc...   \n\n    establishment_count  \n0                   148  \n1                   136  \n2                   129  \n3                   125  \n4                   124  \n5                   109  \n6                   108  \n7                   105  \n8                    96  \n9                    92  \n10                   91  \n11                   86  \n12                   84  \n13                   73  \n14                   72  \n15                   64  \n16                   62  \n17                   56  \n18                   55  \n19                   53  \n20                   49  \n21                   47  \n22                   47  \n23                   32  \n24                   29  \n25                   17  \n26                   17  \n27                   13  \n28                   11  \n29                   10  \n30                    6  \n31                    3  ",
      "text/html": "<div>\n<style scoped>\n    .dataframe tbody tr th:only-of-type {\n        vertical-align: middle;\n    }\n\n    .dataframe tbody tr th {\n        vertical-align: top;\n    }\n\n    .dataframe thead th {\n        text-align: right;\n    }\n</style>\n<table border=\"1\" class=\"dataframe\">\n  <thead>\n    <tr style=\"text-align: right;\">\n      <th></th>\n      <th>_id</th>\n      <th>establishments</th>\n      <th>establishment_count</th>\n    </tr>\n  </thead>\n  <tbody>\n    <tr>\n      <th>0</th>\n      <td>Versailles</td>\n      <td>[Université Paris-Saclay, Campus d'Orsay, I.U....</td>\n      <td>148</td>\n    </tr>\n    <tr>\n      <th>1</th>\n      <td>Lille</td>\n      <td>[Lycée des Flandres, Lycée St-Joseph, Lycée po...</td>\n      <td>136</td>\n    </tr>\n    <tr>\n      <th>2</th>\n      <td>Créteil</td>\n      <td>[Lycée Uruguay France, Lycée Marcel Cachin, Un...</td>\n      <td>129</td>\n    </tr>\n    <tr>\n      <th>3</th>\n      <td>Nantes</td>\n      <td>[ICAM Vendée, Lycée Polyvalent Robert Garnier,...</td>\n      <td>125</td>\n    </tr>\n    <tr>\n      <th>4</th>\n      <td>Rennes</td>\n      <td>[Lycée professionnel Roz Glas, Lycée Pierre Me...</td>\n      <td>124</td>\n    </tr>\n    <tr>\n      <th>5</th>\n      <td>Paris</td>\n      <td>[ESCE, Lycée Estienne Esaig, Lycée Saint Miche...</td>\n      <td>109</td>\n    </tr>\n    <tr>\n      <th>6</th>\n      <td>Normandie</td>\n      <td>[Lycée Malherbe, Lycée Sacre-Coeur, Lycée prof...</td>\n      <td>108</td>\n    </tr>\n    <tr>\n      <th>7</th>\n      <td>Bordeaux</td>\n      <td>[IFSI du CH Agen-Nérac, IFSI CH Intercomm Marm...</td>\n      <td>105</td>\n    </tr>\n    <tr>\n      <th>8</th>\n      <td>Lyon</td>\n      <td>[ESSCA School of Management - Lyon, Lycée Lala...</td>\n      <td>96</td>\n    </tr>\n    <tr>\n      <th>9</th>\n      <td>Toulouse</td>\n      <td>[I.U.T de Toulouse - Antenne de Castres, Unive...</td>\n      <td>92</td>\n    </tr>\n    <tr>\n      <th>10</th>\n      <td>Grenoble</td>\n      <td>[Institut Supérieur de la Construction (ISCO),...</td>\n      <td>91</td>\n    </tr>\n    <tr>\n      <th>11</th>\n      <td>Aix-Marseille</td>\n      <td>[Lycée Pasquet, Aix Marseille Université - Sit...</td>\n      <td>86</td>\n    </tr>\n    <tr>\n      <th>12</th>\n      <td>Montpellier</td>\n      <td>[Lycée Jean-Francois Champollion, Lycée de La ...</td>\n      <td>84</td>\n    </tr>\n    <tr>\n      <th>13</th>\n      <td>Orléans-Tours</td>\n      <td>[Lycée Notre Dame, Lycée Sainte-Croix Saint-Eu...</td>\n      <td>73</td>\n    </tr>\n    <tr>\n      <th>14</th>\n      <td>Nancy-Metz</td>\n      <td>[Lycée Notre Dame, Lycée agricole Metz-Courcel...</td>\n      <td>72</td>\n    </tr>\n    <tr>\n      <th>15</th>\n      <td>Poitiers</td>\n      <td>[Lycée Fenelon, Lycée Maurice Genevoix, LP Jea...</td>\n      <td>64</td>\n    </tr>\n    <tr>\n      <th>16</th>\n      <td>Amiens</td>\n      <td>[Lycée Francois Truffaut, Lycée Condorcet, Lyc...</td>\n      <td>62</td>\n    </tr>\n    <tr>\n      <th>17</th>\n      <td>Dijon</td>\n      <td>[Lycée saint bénigne, Lycée professionnel des ...</td>\n      <td>56</td>\n    </tr>\n    <tr>\n      <th>18</th>\n      <td>Reims</td>\n      <td>[Lycée Edme Bouchardon, Lycée professionnel de...</td>\n      <td>55</td>\n    </tr>\n    <tr>\n      <th>19</th>\n      <td>Strasbourg</td>\n      <td>[I.U.T. de Mulhouse, INSA Strasbourg, IFSI Sel...</td>\n      <td>53</td>\n    </tr>\n    <tr>\n      <th>20</th>\n      <td>Nice</td>\n      <td>[Lycée professionnel Golf-Hôtel, I.U.T de Nice...</td>\n      <td>49</td>\n    </tr>\n    <tr>\n      <th>21</th>\n      <td>Clermont-Ferrand</td>\n      <td>[Lycée des Métiers de Chamalières, IFSI CH Aur...</td>\n      <td>47</td>\n    </tr>\n    <tr>\n      <th>22</th>\n      <td>Besancon</td>\n      <td>[CREPS de Dijon - Antenne de Besançon, Lycée S...</td>\n      <td>47</td>\n    </tr>\n    <tr>\n      <th>23</th>\n      <td>Limoges</td>\n      <td>[Université de Limoges - Antenne de Brive, Lyc...</td>\n      <td>32</td>\n    </tr>\n    <tr>\n      <th>24</th>\n      <td>La Réunion</td>\n      <td>[UCO - LA REUNION, Lycée Sarda Garriga, Univer...</td>\n      <td>29</td>\n    </tr>\n    <tr>\n      <th>25</th>\n      <td>Martinique</td>\n      <td>[Lycée AMEP, Université des Antilles - Pôle Ma...</td>\n      <td>17</td>\n    </tr>\n    <tr>\n      <th>26</th>\n      <td>Guadeloupe</td>\n      <td>[Lycée professionnel Augustin Arron, IFSI CHU ...</td>\n      <td>17</td>\n    </tr>\n    <tr>\n      <th>27</th>\n      <td>Guyane</td>\n      <td>[Lycée Gaston Monnerville, Lycée d'Enseignemen...</td>\n      <td>13</td>\n    </tr>\n    <tr>\n      <th>28</th>\n      <td>Polynésie Française</td>\n      <td>[LYCEE PROFESSIONNEL PRIVE DON BOSCO, Lycée de...</td>\n      <td>11</td>\n    </tr>\n    <tr>\n      <th>29</th>\n      <td>Corse</td>\n      <td>[I.U.T de Corte, Lycée professionnel Jean Nico...</td>\n      <td>10</td>\n    </tr>\n    <tr>\n      <th>30</th>\n      <td>Mayotte</td>\n      <td>[CUFR Centre Universitaire de Mayotte, Lycée d...</td>\n      <td>6</td>\n    </tr>\n    <tr>\n      <th>31</th>\n      <td>Etranger</td>\n      <td>[EIGSI Casablanca (Maroc), EM Lyon Business Sc...</td>\n      <td>3</td>\n    </tr>\n  </tbody>\n</table>\n</div>"
     },
     "execution_count": 22,
     "metadata": {},
     "output_type": "execute_result"
    }
   ],
   "source": [
    "pd.DataFrame(client['parcoursup']['Parcoursup'].aggregate([\n",
    "    {\n",
    "        '$group': {\n",
    "            '_id': '$fields.acad_mies',\n",
    "            'establishments': {\n",
    "                '$addToSet': '$fields.g_ea_lib_vx'\n",
    "            }\n",
    "        }\n",
    "    }, {\n",
    "        '$addFields': {\n",
    "            'establishment_count': {\n",
    "                '$size': '$establishments'\n",
    "            }\n",
    "        }\n",
    "    }, {\n",
    "        '$sort': {\n",
    "            'establishment_count': -1\n",
    "        }\n",
    "    }\n",
    "]))"
   ],
   "metadata": {
    "collapsed": false,
    "pycharm": {
     "name": "#%%\n"
    }
   }
  },
  {
   "cell_type": "markdown",
   "source": [
    "### Sum of Applicants by academy"
   ],
   "metadata": {
    "collapsed": false
   }
  },
  {
   "cell_type": "code",
   "execution_count": 23,
   "outputs": [
    {
     "data": {
      "text/plain": "             _id  academy_applicants\n0          Paris              114034\n1     Versailles               92599\n2        Créteil               83109\n3          Lille               65523\n4           Lyon               63078\n5       Bordeaux               53054\n6       Toulouse               51452\n7    Montpellier               45448\n8  Aix-Marseille               40697\n9         Rennes               39500",
      "text/html": "<div>\n<style scoped>\n    .dataframe tbody tr th:only-of-type {\n        vertical-align: middle;\n    }\n\n    .dataframe tbody tr th {\n        vertical-align: top;\n    }\n\n    .dataframe thead th {\n        text-align: right;\n    }\n</style>\n<table border=\"1\" class=\"dataframe\">\n  <thead>\n    <tr style=\"text-align: right;\">\n      <th></th>\n      <th>_id</th>\n      <th>academy_applicants</th>\n    </tr>\n  </thead>\n  <tbody>\n    <tr>\n      <th>0</th>\n      <td>Paris</td>\n      <td>114034</td>\n    </tr>\n    <tr>\n      <th>1</th>\n      <td>Versailles</td>\n      <td>92599</td>\n    </tr>\n    <tr>\n      <th>2</th>\n      <td>Créteil</td>\n      <td>83109</td>\n    </tr>\n    <tr>\n      <th>3</th>\n      <td>Lille</td>\n      <td>65523</td>\n    </tr>\n    <tr>\n      <th>4</th>\n      <td>Lyon</td>\n      <td>63078</td>\n    </tr>\n    <tr>\n      <th>5</th>\n      <td>Bordeaux</td>\n      <td>53054</td>\n    </tr>\n    <tr>\n      <th>6</th>\n      <td>Toulouse</td>\n      <td>51452</td>\n    </tr>\n    <tr>\n      <th>7</th>\n      <td>Montpellier</td>\n      <td>45448</td>\n    </tr>\n    <tr>\n      <th>8</th>\n      <td>Aix-Marseille</td>\n      <td>40697</td>\n    </tr>\n    <tr>\n      <th>9</th>\n      <td>Rennes</td>\n      <td>39500</td>\n    </tr>\n  </tbody>\n</table>\n</div>"
     },
     "execution_count": 23,
     "metadata": {},
     "output_type": "execute_result"
    }
   ],
   "source": [
    "pd.DataFrame(client['parcoursup']['Parcoursup'].aggregate([\n",
    "    {\n",
    "        '$group': {\n",
    "            '_id': '$fields.acad_mies',\n",
    "            'academy_applicants': {\n",
    "                '$sum': '$fields.nb_voe_pp_at'\n",
    "            }\n",
    "        }\n",
    "    }, {\n",
    "        '$sort': {\n",
    "            'academy_applicants': -1\n",
    "        }\n",
    "    }, {\n",
    "        '$limit': 10\n",
    "    }\n",
    "]))"
   ],
   "metadata": {
    "collapsed": false,
    "pycharm": {
     "name": "#%%\n"
    }
   }
  },
  {
   "cell_type": "markdown",
   "source": [
    "### Orientation between private and public schools"
   ],
   "metadata": {
    "collapsed": false
   }
  },
  {
   "cell_type": "code",
   "execution_count": 24,
   "outputs": [
    {
     "data": {
      "text/plain": "                                _id  total_applicants  of_which_are_women  \\\n0                            Public           3329441             1862897   \n1      Privé enseignement supérieur            144887               64765   \n2                Privé hors contrat             11292                8703   \n3  Privé sous contrat d'association            362729              190607   \n\n   of_which_are_men  \n0           1466544  \n1             80122  \n2              2589  \n3            172122  ",
      "text/html": "<div>\n<style scoped>\n    .dataframe tbody tr th:only-of-type {\n        vertical-align: middle;\n    }\n\n    .dataframe tbody tr th {\n        vertical-align: top;\n    }\n\n    .dataframe thead th {\n        text-align: right;\n    }\n</style>\n<table border=\"1\" class=\"dataframe\">\n  <thead>\n    <tr style=\"text-align: right;\">\n      <th></th>\n      <th>_id</th>\n      <th>total_applicants</th>\n      <th>of_which_are_women</th>\n      <th>of_which_are_men</th>\n    </tr>\n  </thead>\n  <tbody>\n    <tr>\n      <th>0</th>\n      <td>Public</td>\n      <td>3329441</td>\n      <td>1862897</td>\n      <td>1466544</td>\n    </tr>\n    <tr>\n      <th>1</th>\n      <td>Privé enseignement supérieur</td>\n      <td>144887</td>\n      <td>64765</td>\n      <td>80122</td>\n    </tr>\n    <tr>\n      <th>2</th>\n      <td>Privé hors contrat</td>\n      <td>11292</td>\n      <td>8703</td>\n      <td>2589</td>\n    </tr>\n    <tr>\n      <th>3</th>\n      <td>Privé sous contrat d'association</td>\n      <td>362729</td>\n      <td>190607</td>\n      <td>172122</td>\n    </tr>\n  </tbody>\n</table>\n</div>"
     },
     "execution_count": 24,
     "metadata": {},
     "output_type": "execute_result"
    }
   ],
   "source": [
    "pd.DataFrame(client['parcoursup']['Parcoursup'].aggregate([\n",
    "    {\n",
    "        '$group': {\n",
    "            '_id': '$fields.contrat_etab',\n",
    "            'total_applicants': {\n",
    "                '$sum': '$fields.voe_tot'\n",
    "            },\n",
    "            'of_which_are_women': {\n",
    "                '$sum': '$fields.voe_tot_f'\n",
    "            }\n",
    "        }\n",
    "    }, {\n",
    "        '$addFields': {\n",
    "            'of_which_are_men': {\n",
    "                '$subtract': [\n",
    "                    '$total_applicants', '$of_which_are_women'\n",
    "                ]\n",
    "            }\n",
    "        }\n",
    "    }\n",
    "]))"
   ],
   "metadata": {
    "collapsed": false,
    "pycharm": {
     "name": "#%%\n"
    }
   }
  },
  {
   "cell_type": "markdown",
   "source": [
    "### Insertion of scholarship students"
   ],
   "metadata": {
    "collapsed": false
   }
  },
  {
   "cell_type": "code",
   "execution_count": 25,
   "outputs": [
    {
     "data": {
      "text/plain": "                           _id     academy  nbr_place  total_applicants  \\\n0     62b02f870858ff2ddfb74502    Poitiers         95              4291   \n1     62b02f870858ff2ddfb74503    Poitiers         65              2884   \n2     62b02f870858ff2ddfb74504       Reims         85              2292   \n3     62b02f870858ff2ddfb74505       Reims        158              3091   \n4     62b02f870858ff2ddfb74506       Reims         38              1640   \n...                        ...         ...        ...               ...   \n4571  62b02f8b0858ff2ddfb756dd  Nancy-Metz         85               395   \n4572  62b02f8b0858ff2ddfb756de  Versailles         24               473   \n4573  62b02f8b0858ff2ddfb756df        Nice         12               199   \n4574  62b02f8b0858ff2ddfb756e0      Nantes         36                97   \n4575  62b02f8b0858ff2ddfb756e1      Rennes         14               135   \n\n      nbr_applicant_boursier  nbr_proposition_boursier  \n0                        654                        64  \n1                        414                        94  \n2                        664                        66  \n3                        952                        92  \n4                        430                        49  \n...                      ...                       ...  \n4571                     150                        56  \n4572                      94                        16  \n4573                      67                        11  \n4574                      18                        11  \n4575                      28                         7  \n\n[4576 rows x 6 columns]",
      "text/html": "<div>\n<style scoped>\n    .dataframe tbody tr th:only-of-type {\n        vertical-align: middle;\n    }\n\n    .dataframe tbody tr th {\n        vertical-align: top;\n    }\n\n    .dataframe thead th {\n        text-align: right;\n    }\n</style>\n<table border=\"1\" class=\"dataframe\">\n  <thead>\n    <tr style=\"text-align: right;\">\n      <th></th>\n      <th>_id</th>\n      <th>academy</th>\n      <th>nbr_place</th>\n      <th>total_applicants</th>\n      <th>nbr_applicant_boursier</th>\n      <th>nbr_proposition_boursier</th>\n    </tr>\n  </thead>\n  <tbody>\n    <tr>\n      <th>0</th>\n      <td>62b02f870858ff2ddfb74502</td>\n      <td>Poitiers</td>\n      <td>95</td>\n      <td>4291</td>\n      <td>654</td>\n      <td>64</td>\n    </tr>\n    <tr>\n      <th>1</th>\n      <td>62b02f870858ff2ddfb74503</td>\n      <td>Poitiers</td>\n      <td>65</td>\n      <td>2884</td>\n      <td>414</td>\n      <td>94</td>\n    </tr>\n    <tr>\n      <th>2</th>\n      <td>62b02f870858ff2ddfb74504</td>\n      <td>Reims</td>\n      <td>85</td>\n      <td>2292</td>\n      <td>664</td>\n      <td>66</td>\n    </tr>\n    <tr>\n      <th>3</th>\n      <td>62b02f870858ff2ddfb74505</td>\n      <td>Reims</td>\n      <td>158</td>\n      <td>3091</td>\n      <td>952</td>\n      <td>92</td>\n    </tr>\n    <tr>\n      <th>4</th>\n      <td>62b02f870858ff2ddfb74506</td>\n      <td>Reims</td>\n      <td>38</td>\n      <td>1640</td>\n      <td>430</td>\n      <td>49</td>\n    </tr>\n    <tr>\n      <th>...</th>\n      <td>...</td>\n      <td>...</td>\n      <td>...</td>\n      <td>...</td>\n      <td>...</td>\n      <td>...</td>\n    </tr>\n    <tr>\n      <th>4571</th>\n      <td>62b02f8b0858ff2ddfb756dd</td>\n      <td>Nancy-Metz</td>\n      <td>85</td>\n      <td>395</td>\n      <td>150</td>\n      <td>56</td>\n    </tr>\n    <tr>\n      <th>4572</th>\n      <td>62b02f8b0858ff2ddfb756de</td>\n      <td>Versailles</td>\n      <td>24</td>\n      <td>473</td>\n      <td>94</td>\n      <td>16</td>\n    </tr>\n    <tr>\n      <th>4573</th>\n      <td>62b02f8b0858ff2ddfb756df</td>\n      <td>Nice</td>\n      <td>12</td>\n      <td>199</td>\n      <td>67</td>\n      <td>11</td>\n    </tr>\n    <tr>\n      <th>4574</th>\n      <td>62b02f8b0858ff2ddfb756e0</td>\n      <td>Nantes</td>\n      <td>36</td>\n      <td>97</td>\n      <td>18</td>\n      <td>11</td>\n    </tr>\n    <tr>\n      <th>4575</th>\n      <td>62b02f8b0858ff2ddfb756e1</td>\n      <td>Rennes</td>\n      <td>14</td>\n      <td>135</td>\n      <td>28</td>\n      <td>7</td>\n    </tr>\n  </tbody>\n</table>\n<p>4576 rows × 6 columns</p>\n</div>"
     },
     "execution_count": 25,
     "metadata": {},
     "output_type": "execute_result"
    }
   ],
   "source": [
    "pd.DataFrame(client['parcoursup']['Parcoursup'].aggregate([\n",
    "    {\n",
    "        '$project': {\n",
    "            'academy': '$fields.acad_mies',\n",
    "            'nbr_place': '$fields.capa_fin',\n",
    "            'total_applicants': '$fields.voe_tot',\n",
    "            'nbr_applicant_boursier': {\n",
    "                '$add': [\n",
    "                    '$fields.nb_voe_pp_bg_brs', '$fields.nb_voe_pp_bt_brs', '$fields.nb_voe_pp_bp_brs', '$fields.nb_cla_pp_bg_brs', '$fields.nb_cla_pp_bt_brs', '$fields.nb_cla_pp_bp_brs'\n",
    "                ]\n",
    "            },\n",
    "            'nbr_proposition_boursier': {\n",
    "                '$add': [\n",
    "                    '$fields.prop_tot_bg_brs', '$fields.prop_tot_bp_brs', '$fields.prop_tot_bt_brs'\n",
    "                ]\n",
    "            }\n",
    "        }\n",
    "    }\n",
    "]))"
   ],
   "metadata": {
    "collapsed": false,
    "pycharm": {
     "name": "#%%\n"
    }
   }
  }
 ],
 "metadata": {
  "kernelspec": {
   "display_name": "Python 3",
   "language": "python",
   "name": "python3"
  },
  "language_info": {
   "codemirror_mode": {
    "name": "ipython",
    "version": 2
   },
   "file_extension": ".py",
   "mimetype": "text/x-python",
   "name": "python",
   "nbconvert_exporter": "python",
   "pygments_lexer": "ipython2",
   "version": "2.7.6"
  }
 },
 "nbformat": 4,
 "nbformat_minor": 0
}